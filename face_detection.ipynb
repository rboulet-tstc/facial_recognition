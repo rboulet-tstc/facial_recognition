{
 "cells": [
  {
   "attachments": {},
   "cell_type": "markdown",
   "metadata": {},
   "source": [
    "# Notebook to explore packages for image processing and human face bounding."
   ]
  },
  {
   "cell_type": "code",
   "execution_count": 2,
   "metadata": {},
   "outputs": [],
   "source": [
    "import cv2\n",
    "import numpy as np"
   ]
  },
  {
   "attachments": {},
   "cell_type": "markdown",
   "metadata": {},
   "source": [
    "#### Reading image."
   ]
  },
  {
   "attachments": {},
   "cell_type": "markdown",
   "metadata": {},
   "source": [
    "#### The color of the image can be changed with second param, greyscale/BW/color etc."
   ]
  },
  {
   "cell_type": "code",
   "execution_count": 3,
   "metadata": {},
   "outputs": [],
   "source": [
    "img = cv2.imread('faces_in_wild_data\\lfw-deepfunneled\\lfw-deepfunneled\\Aaron_Eckhart\\Aaron_Eckhart_0001.jpg', cv2.IMREAD_COLOR)"
   ]
  },
  {
   "attachments": {},
   "cell_type": "markdown",
   "metadata": {},
   "source": [
    "#### GUI to show image, first param is window title and second is image array. \n",
    "#### Second function to hold window on screen, param for int is milliseconds, 0 is until user exits. \n",
    "#### Third function appears to close all open cv2 windows."
   ]
  },
  {
   "cell_type": "code",
   "execution_count": 4,
   "metadata": {},
   "outputs": [
    {
     "data": {
      "text/plain": [
       "<function destroyAllWindows>"
      ]
     },
     "execution_count": 4,
     "metadata": {},
     "output_type": "execute_result"
    }
   ],
   "source": [
    "cv2.imshow('Aaron', img)\n",
    "\n",
    "# Needed so kernel does not crash as well.\n",
    "cv2.waitKey(0)\n",
    "\n",
    "# This will just return -1 if not included vs kill window text, possibly for ensuring no background processes?\n",
    "cv2.destroyAllWindows "
   ]
  },
  {
   "attachments": {},
   "cell_type": "markdown",
   "metadata": {},
   "source": [
    "#### Cell will continue to execute until user kills GUI. Might want to get into wrapping our work in functions."
   ]
  },
  {
   "cell_type": "code",
   "execution_count": 4,
   "metadata": {},
   "outputs": [],
   "source": [
    "# Trying grayscale import.\n",
    "#img = cv2.imread('faces_in_wild_data\\lfw-deepfunneled\\lfw-deepfunneled\\Aaron_Eckhart\\Aaron_Eckhart_0001.jpg', cv2.IMREAD_GRAYSCALE)"
   ]
  },
  {
   "cell_type": "code",
   "execution_count": 5,
   "metadata": {},
   "outputs": [
    {
     "data": {
      "text/plain": [
       "(250, 250, 3)"
      ]
     },
     "execution_count": 5,
     "metadata": {},
     "output_type": "execute_result"
    }
   ],
   "source": [
    "# Check images shape. ASsuming this is number of pixels?? Docs are dense...\n",
    "img.shape"
   ]
  },
  {
   "cell_type": "markdown",
   "metadata": {},
   "source": [
    "#### Video Capture"
   ]
  },
  {
   "attachments": {},
   "cell_type": "markdown",
   "metadata": {},
   "source": [
    "#### 4 side by side videos using built-in laptop camera."
   ]
  },
  {
   "cell_type": "code",
   "execution_count": 5,
   "metadata": {},
   "outputs": [],
   "source": [
    "cam = cv2.VideoCapture(0)\n",
    "\n",
    "while True:\n",
    "    # Set the video capture frame (image itself), and ret is whether or not image is captured successfully. This method returns two objects, and assign needed for imshow() method. \n",
    "    ret, frame = cam.read()\n",
    "    # Get width and height of frame. cam object has different properties, and 3rd is width, 4th is height.\n",
    "    width = int(cam.get(3))\n",
    "    height = int(cam.get(4))\n",
    "\n",
    "\n",
    "    # Sets image to all zeros (black) for an np array.This is used to create 4 images of video. np.uint8 is type of array passed.\n",
    "    image = np.zeros(frame.shape, np.uint8)\n",
    "    # Shrinking image above for 4X in same video.\n",
    "    smaller_image = cv2.resize(frame, (0,0), fx=0.5, fy=0.5)\n",
    "\n",
    "    # Set the locations for smaller image to include in frame.\n",
    "    # Using the width and height defined above to slice the array [start:end:step], the double division '//' sets an int instead of float after division operation for output.\n",
    "    image[:height//2, :width//2] = smaller_image # top left\n",
    "    image[height//2:, :width//2] = smaller_image # bottom left\n",
    "    image[:height//2, width//2:] = smaller_image # top right\n",
    "    image[height//2:, width//2:] = smaller_image # bottom right\n",
    "\n",
    "    #Show video from camera and frame input.\n",
    "    cv2.imshow('frame', image)\n",
    "\n",
    "    # Kills the camera when 'q' key is pressed.\n",
    "    if cv2.waitKey(1) == ord('q'):\n",
    "        break\n",
    "\n",
    "cam.release()\n",
    "cv2.destroyAllWindows()"
   ]
  },
  {
   "cell_type": "markdown",
   "metadata": {},
   "source": [
    "#### Drawing lines and shapes on video capture."
   ]
  },
  {
   "cell_type": "code",
   "execution_count": 8,
   "metadata": {},
   "outputs": [],
   "source": [
    "cam = cv2.VideoCapture(0)\n",
    "\n",
    "while True:\n",
    "    ret, frame = cam.read()\n",
    "    width = int(cam.get(3))\n",
    "    height = int(cam.get(4))\n",
    "\n",
    "    cv2.imshow('frame', frame)\n",
    "\n",
    "    if cv2.waitKey(1) == ord('q'):\n",
    "        break\n",
    "\n",
    "cam.release()\n",
    "cv2.destroyAllWindows()"
   ]
  }
 ],
 "metadata": {
  "kernelspec": {
   "display_name": "image_processing",
   "language": "python",
   "name": "python3"
  },
  "language_info": {
   "codemirror_mode": {
    "name": "ipython",
    "version": 3
   },
   "file_extension": ".py",
   "mimetype": "text/x-python",
   "name": "python",
   "nbconvert_exporter": "python",
   "pygments_lexer": "ipython3",
   "version": "3.9.16"
  },
  "orig_nbformat": 4,
  "vscode": {
   "interpreter": {
    "hash": "b25e07260771ac8fcdd024a70e90b652ca4be9d1b3dc5ece8a0c09e2f81efd08"
   }
  }
 },
 "nbformat": 4,
 "nbformat_minor": 2
}
